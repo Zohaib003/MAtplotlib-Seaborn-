{
  "nbformat": 4,
  "nbformat_minor": 0,
  "metadata": {
    "colab": {
      "name": "Muhammad Zohaib Aslam Khan - Lab-3_pre.ipynb",
      "provenance": [],
      "collapsed_sections": []
    },
    "kernelspec": {
      "name": "python3",
      "display_name": "Python 3"
    },
    "language_info": {
      "name": "python"
    }
  },
  "cells": [
    {
      "cell_type": "markdown",
      "source": [
        "#Diabities dataset\n"
      ],
      "metadata": {
        "id": "e4SHK67iJ2O3"
      }
    },
    {
      "cell_type": "markdown",
      "source": [
        "Read the diabetes dataset from the \n",
        "\n",
        "https://github.com/akmalatnamal/davlab3/raw/main/diabetes.csv\n"
      ],
      "metadata": {
        "id": "lisdTPvzC7BX"
      }
    },
    {
      "cell_type": "code",
      "source": [
        "import pandas as pd\n",
        "diabTies = pd.read_csv('https://github.com/akmalatnamal/davlab3/raw/main/diabetes.csv')\n",
        "diabTies.head()"
      ],
      "metadata": {
        "id": "jNZ5b62IWQ-Y"
      },
      "execution_count": null,
      "outputs": []
    },
    {
      "cell_type": "markdown",
      "source": [
        "# ![image.png](data:image/png;base64,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)"
      ],
      "metadata": {
        "id": "FFIZGhGeZCkb"
      }
    },
    {
      "cell_type": "code",
      "source": [
        "\n",
        "pregnencies = diabTies.Pregnancies\n",
        "#print(pregnencies)\n",
        "glucose = diabTies.Glucose\n",
        "#print(glucose)\n",
        "age = diabTies.Age\n",
        "bloodPressure = diabTies.BloodPressure\n",
        "skinThikness = diabTies.SkinThickness\n",
        "insuline = diabTies.Insulin\n",
        "B_M_I = diabTies.BMI\n",
        "D_P_F = diabTies.DiabetesPedigreeFunction\n",
        "outPut = diabTies.Outcome"
      ],
      "metadata": {
        "id": "I2bZjC0lWeN0"
      },
      "execution_count": null,
      "outputs": []
    },
    {
      "cell_type": "code",
      "source": [
        "#function \n",
        "import numpy as np\n",
        "mean_target = np.mean(outPut)\n",
        "std_target = np.std(outPut)\n",
        "def corelation(x,x_,std_x):\n",
        "  for i in range(len(x)):\n",
        "    answer = 0\n",
        "    answer += ((x[i]-x_)*(outPut[i]-mean_target))/((std_target)*std_x)\n",
        "    \n",
        "  return answer\n",
        "\n"
      ],
      "metadata": {
        "id": "w5INpkRzYjwv"
      },
      "execution_count": null,
      "outputs": []
    },
    {
      "cell_type": "code",
      "source": [
        "#pregnencies  corelations\n",
        "\n",
        "mean_px =  np.mean(pregnencies)\n",
        "std_px = np.std(pregnencies)\n",
        "print('pregnencies    : ',corelation(pregnencies,mean_px,std_px))\n",
        "\n",
        "# glucose corelation\n",
        "mean_gx = np.mean(glucose)\n",
        "std_gx = np.std(glucose)\n",
        "print('glucose    : ',corelation(glucose,mean_gx,std_gx))\n",
        "\n",
        "mean_ax = np.mean(age)\n",
        "std_ax = np.std(age)\n",
        "print('age        :  ',corelation(age,mean_ax,std_ax))\n",
        "\n",
        "mean_sTx = np.mean(skinThikness)\n",
        "std_sTx = np.std(skinThikness)\n",
        "print('skinThickness : ',corelation(skinThikness,mean_sTx,std_sTx))\n",
        "\n",
        "mean_bPx = np.mean(bloodPressure)\n",
        "std_bPx = np.std(bloodPressure)\n",
        "print(\"Bp        : \",corelation(bloodPressure,mean_bPx,std_bPx))\n",
        "\n",
        "mean_bmi = np.mean(B_M_I)\n",
        "std_bmi = np.std(B_M_I)\n",
        "print(\"B_M_I      : \",corelation(B_M_I,mean_bmi,std_bmi))\n",
        "\n",
        "mean_dpf = np.mean(D_P_F)\n",
        "std_dpf = np.std(D_P_F)\n",
        "print(\"D_P_F     : \",corelation(D_P_F,mean_dpf,std_dpf))"
      ],
      "metadata": {
        "id": "6UqKw6UDUUKe"
      },
      "execution_count": null,
      "outputs": []
    },
    {
      "cell_type": "code",
      "source": [
        "import math as mt\n",
        "def t_test(df):\n",
        "  column = df.columns\n",
        "  t_list=[]\n",
        "  for i in range (len(column)-1):\n",
        "     x = np.array(diabTies.loc[diabTies[\"Outcome\"] == 0, column[i]])\n",
        "     y = np.array(diabTies.loc[diabTies[\"Outcome\"]==1,column[i]])\n",
        "     \n",
        "     x_mean = np.mean(x)\n",
        "     y_mean = np.mean(y)\n",
        "     x_std = np.std(x)\n",
        "     y_std = np.std(y)\n",
        "     x_length = len(x)\n",
        "     y_length = len(y)\n",
        "     \n",
        "     t = abs(x_mean-y_mean)/mt.sqrt( (((x_std)**2)/x_length ) + (((y_std**2))/y_length) )\n",
        "     t_list.append(t)\n",
        "     print(column[i],\"   :\",t,\"\\n\")\n",
        "  return t_list\n",
        "  \n",
        "list_t = t_test(diabTies)"
      ],
      "metadata": {
        "id": "JEuTjVrCjrKF"
      },
      "execution_count": null,
      "outputs": []
    },
    {
      "cell_type": "code",
      "source": [
        "column = diabTies.columns\n",
        "column = column[0:(len(column)-1)]\n",
        "import matplotlib.pyplot as pd\n",
        "pd.barh(column,list_t)"
      ],
      "metadata": {
        "colab": {
          "base_uri": "https://localhost:8080/",
          "height": 282
        },
        "id": "v8qwDDPFtHUa",
        "outputId": "51abfbcd-0579-478a-f43d-d9684b527980"
      },
      "execution_count": null,
      "outputs": [
        {
          "output_type": "execute_result",
          "data": {
            "text/plain": [
              "<BarContainer object of 8 artists>"
            ]
          },
          "metadata": {},
          "execution_count": 43
        },
        {
          "output_type": "display_data",
          "data": {
            "image/png": "[encoded data removed]",
            "text/plain": [
              "<Figure size 432x288 with 1 Axes>"
            ]
          },
          "metadata": {
            "needs_background": "light"
          }
        }
      ]
    }
  ]
}